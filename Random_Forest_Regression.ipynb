{
  "nbformat": 4,
  "nbformat_minor": 0,
  "metadata": {
    "colab": {
      "name": "Johnson's_Random_Forest_Regression.ipynb",
      "provenance": [],
      "collapsed_sections": [],
      "include_colab_link": true
    },
    "kernelspec": {
      "name": "python3",
      "display_name": "Python 3"
    }
  },
  "cells": [
    {
      "cell_type": "markdown",
      "metadata": {
        "id": "view-in-github",
        "colab_type": "text"
      },
      "source": [
        "<a href=\"https://colab.research.google.com/github/jjobogo/First-GitHub/blob/master/Random_Forest_Regression.ipynb\" target=\"_parent\"><img src=\"https://colab.research.google.com/assets/colab-badge.svg\" alt=\"Open In Colab\"/></a>"
      ]
    },
    {
      "cell_type": "code",
      "metadata": {
        "id": "o7m0hKBKrt62"
      },
      "source": [
        "# Import Libraries\n",
        "import numpy as np\n",
        "import pandas as pd\n",
        "from google.colab import drive\n",
        "import plotly.graph_objects as go\n",
        "import seaborn as sns\n",
        "import pprint\n",
        "import matplotlib.pyplot as plt"
      ],
      "execution_count": 1,
      "outputs": []
    },
    {
      "cell_type": "code",
      "metadata": {
        "colab": {
          "base_uri": "https://localhost:8080/"
        },
        "id": "gq6W_xWMoZYM",
        "outputId": "66e34fad-caad-426a-8914-4524a9996076"
      },
      "source": [
        "drive.mount('/content/gdrive')"
      ],
      "execution_count": 2,
      "outputs": [
        {
          "output_type": "stream",
          "text": [
            "Mounted at /content/gdrive\n"
          ],
          "name": "stdout"
        }
      ]
    },
    {
      "cell_type": "code",
      "metadata": {
        "id": "zCJ0gzEAo9dT"
      },
      "source": [
        "dataset.drop(dataset.columns[[0]], axis=1, inplace=True)"
      ],
      "execution_count": 21,
      "outputs": []
    },
    {
      "cell_type": "code",
      "metadata": {
        "id": "yAB5OPgVolZK"
      },
      "source": [
        "dataset = pd.read_csv('/content/gdrive/MyDrive/Top10_HighCovid.csv')"
      ],
      "execution_count": 20,
      "outputs": []
    },
    {
      "cell_type": "code",
      "metadata": {
        "id": "OllOkZn_p-W7"
      },
      "source": [
        "from sklearn.metrics import r2_score\n",
        "from sklearn.metrics import mean_squared_error\n",
        "from math import sqrt\n",
        "from sklearn.metrics import mean_absolute_error"
      ],
      "execution_count": 22,
      "outputs": []
    },
    {
      "cell_type": "code",
      "metadata": {
        "colab": {
          "base_uri": "https://localhost:8080/"
        },
        "id": "Rc0MYB7JpA0s",
        "outputId": "579af1e2-ca65-439c-c34e-96f0ca58ee47"
      },
      "source": [
        "X = dataset.iloc[:, :-1].values\n",
        "y = dataset.iloc[:, -1].values\n",
        "from sklearn.model_selection import train_test_split\n",
        "X_train, X_test, y_train, y_test = train_test_split(X, y, test_size = 0.2, random_state = 0)\n",
        "from sklearn.ensemble import RandomForestRegressor\n",
        "regressor = RandomForestRegressor(n_estimators = 10, random_state = 0)\n",
        "regressor.fit(X_train, y_train)"
      ],
      "execution_count": 23,
      "outputs": [
        {
          "output_type": "execute_result",
          "data": {
            "text/plain": [
              "RandomForestRegressor(bootstrap=True, ccp_alpha=0.0, criterion='mse',\n",
              "                      max_depth=None, max_features='auto', max_leaf_nodes=None,\n",
              "                      max_samples=None, min_impurity_decrease=0.0,\n",
              "                      min_impurity_split=None, min_samples_leaf=1,\n",
              "                      min_samples_split=2, min_weight_fraction_leaf=0.0,\n",
              "                      n_estimators=10, n_jobs=None, oob_score=False,\n",
              "                      random_state=0, verbose=0, warm_start=False)"
            ]
          },
          "metadata": {
            "tags": []
          },
          "execution_count": 23
        }
      ]
    },
    {
      "cell_type": "code",
      "metadata": {
        "colab": {
          "base_uri": "https://localhost:8080/"
        },
        "id": "dl4xB9a_prcG",
        "outputId": "bdeab545-fe80-4757-ad6c-4cb127c884ae"
      },
      "source": [
        "y_pred = regressor.predict(X_test)\n",
        "np.set_printoptions(precision=2)\n",
        "np.concatenate((y_pred.reshape(len(y_pred), 1), y_test.reshape(len(y_test), 1)), 1)\n",
        "r2_score(y_test, y_pred)\n",
        "MSE = mean_squared_error(y_test, y_pred)\n",
        "RMSE = sqrt(mean_squared_error(y_test, y_pred))\n",
        "MAE = (mean_absolute_error(y_test, y_pred))\n",
        "print(\"Mean Square Error:\",MSE  )\n",
        "print(\"Root Mean Square Error:\",RMSE  )\n",
        "print(\"Mean Absolute Error:\",MAE  )\n",
        "print(\"R Square:\",r2_score(y_test, y_pred) )\n",
        "\n"
      ],
      "execution_count": 30,
      "outputs": [
        {
          "output_type": "stream",
          "text": [
            "Mean Square Error: 0.01754068893294651\n",
            "Root Mean Square Error: 0.13244126597456893\n",
            "Mean Absolute Error: 0.04681016016246533\n",
            "R Square: 0.9019409202119216\n"
          ],
          "name": "stdout"
        }
      ]
    },
    {
      "cell_type": "code",
      "metadata": {
        "colab": {
          "base_uri": "https://localhost:8080/",
          "height": 131
        },
        "id": "hohkwva1utxV",
        "outputId": "06c58a2e-c780-45b2-bd15-c650e1c59ce2"
      },
      "source": [
        "r2_score(y_test, y_pred)\n",
        "print r2_score"
      ],
      "execution_count": 29,
      "outputs": [
        {
          "output_type": "error",
          "ename": "SyntaxError",
          "evalue": "ignored",
          "traceback": [
            "\u001b[0;36m  File \u001b[0;32m\"<ipython-input-29-e4dae0a9f28c>\"\u001b[0;36m, line \u001b[0;32m2\u001b[0m\n\u001b[0;31m    print r2_score\u001b[0m\n\u001b[0m                 ^\u001b[0m\n\u001b[0;31mSyntaxError\u001b[0m\u001b[0;31m:\u001b[0m Missing parentheses in call to 'print'. Did you mean print(r2_score)?\n"
          ]
        }
      ]
    },
    {
      "cell_type": "code",
      "metadata": {
        "id": "8yxftwrQta8c"
      },
      "source": [
        "y_test = np.random.rand(100) # Random Data\n",
        "y_pred = y_test + np.random.rand(100)*0.1 # Random Data\n"
      ],
      "execution_count": 10,
      "outputs": []
    },
    {
      "cell_type": "code",
      "metadata": {
        "colab": {
          "base_uri": "https://localhost:8080/",
          "height": 495
        },
        "id": "DZHl7NXAtmxd",
        "outputId": "ae586b59-db19-43a5-e759-06b2c754e387"
      },
      "source": [
        "plt.plot(np.unique(y_test), np.poly1d(np.polyfit(y_test, y_pred, 1))(np.unique(y_test)))\n",
        "plt.scatter(y_test,y_pred)\n",
        "plt.xlabel('Actual values')\n",
        "plt.ylabel('Predicted values')\n",
        "plt.title('Predicted values vs Actual values')\n",
        "\n",
        "plt.text(0.6, 0.5, 'R-squared = %0.2f' % r_squared)\n",
        "plt.show()"
      ],
      "execution_count": 11,
      "outputs": [
        {
          "output_type": "error",
          "ename": "NameError",
          "evalue": "ignored",
          "traceback": [
            "\u001b[0;31m---------------------------------------------------------------------------\u001b[0m",
            "\u001b[0;31mNameError\u001b[0m                                 Traceback (most recent call last)",
            "\u001b[0;32m<ipython-input-11-a6f2fc5f8d0a>\u001b[0m in \u001b[0;36m<module>\u001b[0;34m()\u001b[0m\n\u001b[1;32m      5\u001b[0m \u001b[0mplt\u001b[0m\u001b[0;34m.\u001b[0m\u001b[0mtitle\u001b[0m\u001b[0;34m(\u001b[0m\u001b[0;34m'Predicted values vs Actual values'\u001b[0m\u001b[0;34m)\u001b[0m\u001b[0;34m\u001b[0m\u001b[0;34m\u001b[0m\u001b[0m\n\u001b[1;32m      6\u001b[0m \u001b[0;34m\u001b[0m\u001b[0m\n\u001b[0;32m----> 7\u001b[0;31m \u001b[0mplt\u001b[0m\u001b[0;34m.\u001b[0m\u001b[0mtext\u001b[0m\u001b[0;34m(\u001b[0m\u001b[0;36m0.6\u001b[0m\u001b[0;34m,\u001b[0m \u001b[0;36m0.5\u001b[0m\u001b[0;34m,\u001b[0m \u001b[0;34m'R-squared = %0.2f'\u001b[0m \u001b[0;34m%\u001b[0m \u001b[0mr_squared\u001b[0m\u001b[0;34m)\u001b[0m\u001b[0;34m\u001b[0m\u001b[0;34m\u001b[0m\u001b[0m\n\u001b[0m\u001b[1;32m      8\u001b[0m \u001b[0mplt\u001b[0m\u001b[0;34m.\u001b[0m\u001b[0mshow\u001b[0m\u001b[0;34m(\u001b[0m\u001b[0;34m)\u001b[0m\u001b[0;34m\u001b[0m\u001b[0;34m\u001b[0m\u001b[0m\n",
            "\u001b[0;31mNameError\u001b[0m: name 'r_squared' is not defined"
          ]
        },
        {
          "output_type": "display_data",
          "data": {
            "image/png": "[encoded data removed]",
            "text/plain": [
              "<Figure size 432x288 with 1 Axes>"
            ]
          },
          "metadata": {
            "tags": [],
            "needs_background": "light"
          }
        }
      ]
    },
    {
      "cell_type": "code",
      "metadata": {
        "id": "etoAQhZk1gLM"
      },
      "source": [
        "from google.colab import drive"
      ],
      "execution_count": null,
      "outputs": []
    },
    {
      "cell_type": "code",
      "metadata": {
        "colab": {
          "base_uri": "https://localhost:8080/"
        },
        "id": "0_ngR9R81nMc",
        "outputId": "f7da82ca-8b25-498f-d519-4e5b2b4f431c"
      },
      "source": [
        "drive.mount('/content/gdrive')"
      ],
      "execution_count": null,
      "outputs": [
        {
          "output_type": "stream",
          "text": [
            "Mounted at /content/gdrive\n"
          ],
          "name": "stdout"
        }
      ]
    },
    {
      "cell_type": "code",
      "metadata": {
        "id": "qBfrxur2rwch"
      },
      "source": [
        "dataset = pd.read_csv('/content/gdrive/MyDrive/New_Dataset.csv')"
      ],
      "execution_count": null,
      "outputs": []
    },
    {
      "cell_type": "code",
      "metadata": {
        "id": "_GIP4KBCrx4w"
      },
      "source": [
        "dataset = dataset[['Year', 'Relative Price',\n",
        "       'Relative Income', 'Population', 'GDP', 'CPI', 'UK CPI', 'UK GDP',\n",
        "       'Exchange Rate', 'UK EXC Rate', 'Inbound Tourism']]"
      ],
      "execution_count": null,
      "outputs": []
    },
    {
      "cell_type": "code",
      "metadata": {
        "colab": {
          "base_uri": "https://localhost:8080/",
          "height": 253
        },
        "id": "i93Zd_DkRva9",
        "outputId": "bba92d59-ece4-4f75-98eb-c5936994c5e6"
      },
      "source": [
        "dataset.head()"
      ],
      "execution_count": null,
      "outputs": [
        {
          "output_type": "execute_result",
          "data": {
            "text/html": [
              "<div>\n",
              "<style scoped>\n",
              "    .dataframe tbody tr th:only-of-type {\n",
              "        vertical-align: middle;\n",
              "    }\n",
              "\n",
              "    .dataframe tbody tr th {\n",
              "        vertical-align: top;\n",
              "    }\n",
              "\n",
              "    .dataframe thead th {\n",
              "        text-align: right;\n",
              "    }\n",
              "</style>\n",
              "<table border=\"1\" class=\"dataframe\">\n",
              "  <thead>\n",
              "    <tr style=\"text-align: right;\">\n",
              "      <th></th>\n",
              "      <th>Year</th>\n",
              "      <th>Relative Price</th>\n",
              "      <th>Relative Income</th>\n",
              "      <th>Population</th>\n",
              "      <th>GDP</th>\n",
              "      <th>CPI</th>\n",
              "      <th>UK CPI</th>\n",
              "      <th>UK GDP</th>\n",
              "      <th>Exchange Rate</th>\n",
              "      <th>UK EXC Rate</th>\n",
              "      <th>Inbound Tourism</th>\n",
              "    </tr>\n",
              "  </thead>\n",
              "  <tbody>\n",
              "    <tr>\n",
              "      <th>0</th>\n",
              "      <td>1995</td>\n",
              "      <td>113.751366</td>\n",
              "      <td>2.585494</td>\n",
              "      <td>18072000</td>\n",
              "      <td>6.880000e+11</td>\n",
              "      <td>67.637877</td>\n",
              "      <td>73.931940</td>\n",
              "      <td>1.780000e+12</td>\n",
              "      <td>73.50</td>\n",
              "      <td>104.07</td>\n",
              "      <td>607000.0</td>\n",
              "    </tr>\n",
              "    <tr>\n",
              "      <th>1</th>\n",
              "      <td>1996</td>\n",
              "      <td>116.622236</td>\n",
              "      <td>2.550971</td>\n",
              "      <td>18311000</td>\n",
              "      <td>7.150000e+11</td>\n",
              "      <td>69.406868</td>\n",
              "      <td>76.040318</td>\n",
              "      <td>1.820000e+12</td>\n",
              "      <td>80.38</td>\n",
              "      <td>106.45</td>\n",
              "      <td>650000.0</td>\n",
              "    </tr>\n",
              "    <tr>\n",
              "      <th>2</th>\n",
              "      <td>1997</td>\n",
              "      <td>137.770564</td>\n",
              "      <td>2.548230</td>\n",
              "      <td>18517000</td>\n",
              "      <td>7.440000e+11</td>\n",
              "      <td>69.562955</td>\n",
              "      <td>77.714074</td>\n",
              "      <td>1.890000e+12</td>\n",
              "      <td>79.96</td>\n",
              "      <td>123.32</td>\n",
              "      <td>684000.0</td>\n",
              "    </tr>\n",
              "    <tr>\n",
              "      <th>3</th>\n",
              "      <td>1998</td>\n",
              "      <td>145.770532</td>\n",
              "      <td>2.525524</td>\n",
              "      <td>18711000</td>\n",
              "      <td>7.780000e+11</td>\n",
              "      <td>70.161290</td>\n",
              "      <td>79.128907</td>\n",
              "      <td>1.960000e+12</td>\n",
              "      <td>73.25</td>\n",
              "      <td>129.25</td>\n",
              "      <td>603000.0</td>\n",
              "    </tr>\n",
              "    <tr>\n",
              "      <th>4</th>\n",
              "      <td>1999</td>\n",
              "      <td>145.994887</td>\n",
              "      <td>2.485976</td>\n",
              "      <td>18926000</td>\n",
              "      <td>8.170000e+11</td>\n",
              "      <td>71.201873</td>\n",
              "      <td>80.515998</td>\n",
              "      <td>2.030000e+12</td>\n",
              "      <td>73.51</td>\n",
              "      <td>129.11</td>\n",
              "      <td>728000.0</td>\n",
              "    </tr>\n",
              "  </tbody>\n",
              "</table>\n",
              "</div>"
            ],
            "text/plain": [
              "   Year  Relative Price  ...  UK EXC Rate  Inbound Tourism\n",
              "0  1995      113.751366  ...       104.07         607000.0\n",
              "1  1996      116.622236  ...       106.45         650000.0\n",
              "2  1997      137.770564  ...       123.32         684000.0\n",
              "3  1998      145.770532  ...       129.25         603000.0\n",
              "4  1999      145.994887  ...       129.11         728000.0\n",
              "\n",
              "[5 rows x 11 columns]"
            ]
          },
          "metadata": {
            "tags": []
          },
          "execution_count": 80
        }
      ]
    },
    {
      "cell_type": "code",
      "metadata": {
        "id": "iMEujv-0r3H8"
      },
      "source": [
        "X = dataset.iloc[:, :-1].values\n",
        "y = dataset.iloc[:, -1].values"
      ],
      "execution_count": null,
      "outputs": []
    },
    {
      "cell_type": "code",
      "metadata": {
        "colab": {
          "base_uri": "https://localhost:8080/"
        },
        "id": "mzZKuhfeLjn1",
        "outputId": "aa88d6ed-86b8-40ee-fd0d-4019831713e6"
      },
      "source": [
        "y_test"
      ],
      "execution_count": null,
      "outputs": [
        {
          "output_type": "execute_result",
          "data": {
            "text/plain": [
              "array([2.69e+05, 4.17e+06, 9.94e+04, 1.14e+02, 1.55e+05, 9.12e+05,\n",
              "       8.28e+04, 7.90e+04, 9.66e+05, 1.14e+02, 9.70e+04, 7.38e+05,\n",
              "       1.63e+05, 2.19e+05, 2.52e+05, 2.25e+05, 1.54e+05, 9.10e+04,\n",
              "       1.22e+05, 1.57e+05, 7.71e+05, 1.97e+06, 5.00e+04, 1.38e+05,\n",
              "       1.17e+05, 2.80e+04, 1.49e+05, 1.85e+05, 1.66e+05, 7.00e+05,\n",
              "       1.37e+05, 1.54e+05, 1.14e+02, 7.90e+04, 3.38e+06, 3.70e+04,\n",
              "       9.80e+04, 3.27e+06, 9.24e+05, 1.48e+06, 1.83e+05, 2.95e+06,\n",
              "       1.02e+05, 1.11e+06, 3.00e+06, 2.06e+05, 1.21e+05, 1.64e+05,\n",
              "       7.72e+05, 2.09e+06, 3.19e+05, 2.80e+05, 1.44e+05, 1.02e+05,\n",
              "       1.82e+06, 2.11e+05, 4.10e+04, 3.78e+06, 3.36e+05, 6.02e+04,\n",
              "       3.58e+06, 2.24e+05, 1.14e+02, 5.61e+05, 6.60e+05, 1.14e+02,\n",
              "       6.90e+04, 1.79e+06, 1.53e+05, 1.43e+05, 2.42e+05, 9.95e+05,\n",
              "       1.47e+06, 1.14e+02, 1.83e+05, 9.90e+05, 5.95e+05, 7.80e+04,\n",
              "       5.80e+04, 4.89e+04, 1.16e+05, 2.41e+05, 4.27e+05, 1.76e+05,\n",
              "       7.23e+05, 1.47e+05, 5.73e+05, 3.90e+06, 3.34e+06, 6.04e+05,\n",
              "       1.11e+05, 1.74e+05, 9.77e+05, 2.85e+06, 1.90e+06, 2.87e+05,\n",
              "       9.60e+04, 1.14e+02, 3.25e+05, 1.46e+05, 1.10e+06, 1.74e+05,\n",
              "       2.42e+05, 1.14e+02, 1.91e+05, 1.34e+05, 1.58e+05, 1.23e+05,\n",
              "       1.34e+05, 2.09e+05, 6.30e+04, 3.44e+06, 1.14e+02, 1.28e+05,\n",
              "       1.42e+06, 1.98e+05, 2.76e+05, 1.69e+05, 2.04e+05, 1.14e+02,\n",
              "       1.38e+05, 2.76e+05, 2.20e+06, 1.62e+05, 2.07e+05, 8.37e+04,\n",
              "       3.73e+05, 1.21e+06, 1.14e+02, 1.93e+05, 4.55e+05, 1.72e+06,\n",
              "       1.88e+05, 1.91e+05, 7.00e+04, 3.16e+05, 1.99e+06, 7.30e+04,\n",
              "       1.49e+05, 2.90e+06, 4.95e+05, 7.77e+05, 6.80e+04, 6.80e+04,\n",
              "       9.40e+05, 8.30e+04, 1.14e+02, 3.97e+05, 1.99e+06, 1.74e+05,\n",
              "       1.28e+05, 6.88e+05, 2.46e+05, 3.55e+06, 2.74e+05, 7.04e+05,\n",
              "       9.20e+04, 2.86e+05, 8.27e+05, 1.61e+05, 3.89e+05, 3.88e+06,\n",
              "       2.71e+05, 1.22e+06, 2.27e+05, 4.22e+05, 6.70e+04, 2.98e+06,\n",
              "       5.85e+04, 3.32e+05, 2.65e+06, 1.14e+02, 2.25e+05, 4.29e+05,\n",
              "       4.54e+05, 1.14e+02, 9.03e+05, 8.30e+04, 9.10e+04, 4.40e+04,\n",
              "       1.14e+02, 1.58e+05, 2.71e+06, 8.08e+04, 7.50e+04, 6.84e+05,\n",
              "       1.40e+05, 2.23e+06])"
            ]
          },
          "metadata": {
            "tags": []
          },
          "execution_count": 150
        }
      ]
    },
    {
      "cell_type": "code",
      "metadata": {
        "id": "Ra3KbNSGr5cU"
      },
      "source": [
        "from sklearn.model_selection import train_test_split\n",
        "X_train, X_test, y_train, y_test = train_test_split(X, y, test_size = 0.2, random_state = 0)"
      ],
      "execution_count": null,
      "outputs": []
    },
    {
      "cell_type": "code",
      "metadata": {
        "colab": {
          "base_uri": "https://localhost:8080/"
        },
        "id": "c_Z1u1H4r8on",
        "outputId": "99abbc71-df52-4f43-8d45-fca527f73cc5"
      },
      "source": [
        "from sklearn.ensemble import RandomForestRegressor\n",
        "regressor = RandomForestRegressor(n_estimators = 10, random_state = 0)\n",
        "regressor.fit(X_train, y_train)"
      ],
      "execution_count": null,
      "outputs": [
        {
          "output_type": "execute_result",
          "data": {
            "text/plain": [
              "RandomForestRegressor(bootstrap=True, ccp_alpha=0.0, criterion='mse',\n",
              "                      max_depth=None, max_features='auto', max_leaf_nodes=None,\n",
              "                      max_samples=None, min_impurity_decrease=0.0,\n",
              "                      min_impurity_split=None, min_samples_leaf=1,\n",
              "                      min_samples_split=2, min_weight_fraction_leaf=0.0,\n",
              "                      n_estimators=10, n_jobs=None, oob_score=False,\n",
              "                      random_state=0, verbose=0, warm_start=False)"
            ]
          },
          "metadata": {
            "tags": []
          },
          "execution_count": 10
        }
      ]
    },
    {
      "cell_type": "code",
      "metadata": {
        "colab": {
          "base_uri": "https://localhost:8080/"
        },
        "id": "UF5qhEEmsLR_",
        "outputId": "e62e6652-70ec-4165-e0b8-3a4ea18819b6"
      },
      "source": [
        "y_pred = regressor.predict(X_test)\n",
        "np.set_printoptions(precision=2)\n",
        "print(np.concatenate((y_pred.reshape(len(y_pred), 1), y_test.reshape(len(y_test), 1)), 1))"
      ],
      "execution_count": null,
      "outputs": [
        {
          "output_type": "stream",
          "text": [
            "[[3.22e+05 2.69e+05]\n",
            " [2.84e+06 4.17e+06]\n",
            " [8.04e+05 9.94e+04]\n",
            " [4.12e+04 1.14e+02]\n",
            " [2.06e+05 1.55e+05]\n",
            " [9.59e+05 9.12e+05]\n",
            " [8.10e+04 8.28e+04]\n",
            " [1.83e+05 7.90e+04]\n",
            " [9.92e+05 9.66e+05]\n",
            " [6.20e+03 1.14e+02]\n",
            " [3.06e+05 9.70e+04]\n",
            " [7.20e+05 7.38e+05]\n",
            " [1.71e+05 1.63e+05]\n",
            " [3.70e+05 2.19e+05]\n",
            " [4.08e+05 2.52e+05]\n",
            " [2.47e+05 2.25e+05]\n",
            " [1.97e+05 1.54e+05]\n",
            " [8.24e+04 9.10e+04]\n",
            " [1.40e+05 1.22e+05]\n",
            " [2.74e+05 1.57e+05]\n",
            " [7.56e+05 7.71e+05]\n",
            " [2.06e+06 1.97e+06]\n",
            " [2.38e+05 5.00e+04]\n",
            " [2.21e+05 1.38e+05]\n",
            " [1.33e+05 1.17e+05]\n",
            " [4.18e+04 2.80e+04]\n",
            " [8.48e+04 1.49e+05]\n",
            " [2.09e+05 1.85e+05]\n",
            " [1.72e+05 1.66e+05]\n",
            " [8.06e+05 7.00e+05]\n",
            " [1.44e+05 1.37e+05]\n",
            " [1.83e+05 1.54e+05]\n",
            " [6.39e+04 1.14e+02]\n",
            " [8.39e+04 7.90e+04]\n",
            " [3.13e+06 3.38e+06]\n",
            " [2.40e+05 3.70e+04]\n",
            " [1.42e+05 9.80e+04]\n",
            " [2.72e+06 3.27e+06]\n",
            " [2.26e+06 9.24e+05]\n",
            " [1.36e+06 1.48e+06]\n",
            " [1.59e+05 1.83e+05]\n",
            " [3.02e+06 2.95e+06]\n",
            " [9.68e+04 1.02e+05]\n",
            " [1.15e+06 1.11e+06]\n",
            " [2.99e+06 3.00e+06]\n",
            " [9.51e+04 2.06e+05]\n",
            " [1.27e+05 1.21e+05]\n",
            " [1.95e+05 1.64e+05]\n",
            " [6.96e+05 7.72e+05]\n",
            " [1.94e+06 2.09e+06]\n",
            " [2.30e+05 3.19e+05]\n",
            " [2.61e+05 2.80e+05]\n",
            " [1.95e+05 1.44e+05]\n",
            " [1.04e+05 1.02e+05]\n",
            " [1.79e+06 1.82e+06]\n",
            " [2.22e+05 2.11e+05]\n",
            " [4.49e+04 4.10e+04]\n",
            " [3.54e+06 3.78e+06]\n",
            " [3.31e+05 3.36e+05]\n",
            " [5.78e+04 6.02e+04]\n",
            " [3.79e+06 3.58e+06]\n",
            " [2.00e+05 2.24e+05]\n",
            " [3.75e+05 1.14e+02]\n",
            " [5.91e+05 5.61e+05]\n",
            " [6.54e+05 6.60e+05]\n",
            " [1.22e+06 1.14e+02]\n",
            " [6.07e+04 6.90e+04]\n",
            " [1.30e+06 1.79e+06]\n",
            " [1.36e+05 1.53e+05]\n",
            " [1.36e+05 1.43e+05]\n",
            " [2.40e+05 2.42e+05]\n",
            " [1.03e+06 9.95e+05]\n",
            " [1.22e+06 1.47e+06]\n",
            " [2.34e+04 1.14e+02]\n",
            " [1.96e+05 1.83e+05]\n",
            " [1.89e+06 9.90e+05]\n",
            " [6.37e+05 5.95e+05]\n",
            " [9.18e+04 7.80e+04]\n",
            " [5.59e+04 5.80e+04]\n",
            " [4.29e+04 4.89e+04]\n",
            " [1.52e+05 1.16e+05]\n",
            " [3.90e+05 2.41e+05]\n",
            " [1.36e+06 4.27e+05]\n",
            " [2.03e+05 1.76e+05]\n",
            " [7.16e+05 7.23e+05]\n",
            " [1.50e+05 1.47e+05]\n",
            " [6.63e+05 5.73e+05]\n",
            " [3.39e+06 3.90e+06]\n",
            " [1.98e+06 3.34e+06]\n",
            " [7.36e+05 6.04e+05]\n",
            " [1.84e+05 1.11e+05]\n",
            " [1.81e+05 1.74e+05]\n",
            " [9.89e+05 9.77e+05]\n",
            " [2.32e+06 2.85e+06]\n",
            " [1.94e+06 1.90e+06]\n",
            " [3.53e+05 2.87e+05]\n",
            " [7.25e+04 9.60e+04]\n",
            " [1.14e+02 1.14e+02]\n",
            " [2.27e+05 3.25e+05]\n",
            " [1.53e+05 1.46e+05]\n",
            " [8.96e+05 1.10e+06]\n",
            " [1.74e+05 1.74e+05]\n",
            " [3.55e+05 2.42e+05]\n",
            " [6.40e+03 1.14e+02]\n",
            " [3.65e+05 1.91e+05]\n",
            " [2.00e+05 1.34e+05]\n",
            " [1.33e+05 1.58e+05]\n",
            " [1.54e+05 1.23e+05]\n",
            " [3.91e+05 1.34e+05]\n",
            " [1.98e+05 2.09e+05]\n",
            " [6.98e+04 6.30e+04]\n",
            " [3.40e+06 3.44e+06]\n",
            " [1.14e+02 1.14e+02]\n",
            " [2.57e+05 1.28e+05]\n",
            " [1.61e+06 1.42e+06]\n",
            " [1.93e+05 1.98e+05]\n",
            " [2.64e+05 2.76e+05]\n",
            " [1.99e+05 1.69e+05]\n",
            " [1.94e+05 2.04e+05]\n",
            " [8.12e+03 1.14e+02]\n",
            " [1.23e+05 1.38e+05]\n",
            " [2.39e+05 2.76e+05]\n",
            " [1.90e+06 2.20e+06]\n",
            " [1.31e+05 1.62e+05]\n",
            " [1.91e+05 2.07e+05]\n",
            " [1.06e+05 8.37e+04]\n",
            " [3.62e+05 3.73e+05]\n",
            " [1.12e+06 1.21e+06]\n",
            " [1.02e+04 1.14e+02]\n",
            " [2.51e+05 1.93e+05]\n",
            " [5.39e+05 4.55e+05]\n",
            " [1.68e+06 1.72e+06]\n",
            " [1.75e+05 1.88e+05]\n",
            " [1.62e+05 1.91e+05]\n",
            " [6.81e+04 7.00e+04]\n",
            " [2.45e+05 3.16e+05]\n",
            " [1.12e+06 1.99e+06]\n",
            " [8.50e+04 7.30e+04]\n",
            " [1.80e+05 1.49e+05]\n",
            " [3.13e+06 2.90e+06]\n",
            " [5.34e+05 4.95e+05]\n",
            " [6.94e+05 7.77e+05]\n",
            " [9.47e+04 6.80e+04]\n",
            " [2.35e+05 6.80e+04]\n",
            " [9.72e+05 9.40e+05]\n",
            " [5.80e+04 8.30e+04]\n",
            " [1.04e+06 1.14e+02]\n",
            " [4.94e+05 3.97e+05]\n",
            " [6.94e+05 1.99e+06]\n",
            " [1.66e+05 1.74e+05]\n",
            " [2.34e+05 1.28e+05]\n",
            " [8.78e+05 6.88e+05]\n",
            " [1.72e+05 2.46e+05]\n",
            " [3.22e+06 3.55e+06]\n",
            " [3.01e+05 2.74e+05]\n",
            " [7.18e+05 7.04e+05]\n",
            " [1.23e+05 9.20e+04]\n",
            " [3.13e+05 2.86e+05]\n",
            " [9.43e+05 8.27e+05]\n",
            " [1.66e+05 1.61e+05]\n",
            " [2.76e+05 3.89e+05]\n",
            " [3.89e+06 3.88e+06]\n",
            " [3.02e+05 2.71e+05]\n",
            " [1.13e+06 1.22e+06]\n",
            " [2.29e+05 2.27e+05]\n",
            " [4.00e+05 4.22e+05]\n",
            " [7.85e+04 6.70e+04]\n",
            " [2.90e+06 2.98e+06]\n",
            " [7.75e+04 5.85e+04]\n",
            " [3.28e+05 3.32e+05]\n",
            " [3.01e+06 2.65e+06]\n",
            " [7.31e+04 1.14e+02]\n",
            " [2.23e+05 2.25e+05]\n",
            " [4.15e+05 4.29e+05]\n",
            " [4.47e+05 4.54e+05]\n",
            " [1.18e+05 1.14e+02]\n",
            " [1.01e+06 9.03e+05]\n",
            " [8.69e+04 8.30e+04]\n",
            " [1.34e+05 9.10e+04]\n",
            " [5.32e+04 4.40e+04]\n",
            " [1.14e+02 1.14e+02]\n",
            " [1.53e+05 1.58e+05]\n",
            " [2.32e+06 2.71e+06]\n",
            " [7.28e+04 8.08e+04]\n",
            " [6.77e+04 7.50e+04]\n",
            " [6.60e+05 6.84e+05]\n",
            " [1.94e+05 1.40e+05]\n",
            " [7.36e+05 2.23e+06]]\n"
          ],
          "name": "stdout"
        }
      ]
    },
    {
      "cell_type": "code",
      "metadata": {
        "colab": {
          "base_uri": "https://localhost:8080/"
        },
        "id": "9C7_JdwQsYKn",
        "outputId": "0eea7beb-b4b7-4f9b-b89a-5721a39c05ee"
      },
      "source": [
        "from sklearn.metrics import r2_score\n",
        "r2_score(y_test, y_pred)"
      ],
      "execution_count": null,
      "outputs": [
        {
          "output_type": "execute_result",
          "data": {
            "text/plain": [
              "0.901524848415574"
            ]
          },
          "metadata": {
            "tags": []
          },
          "execution_count": 12
        }
      ]
    },
    {
      "cell_type": "code",
      "metadata": {
        "id": "wSwLOES33J58"
      },
      "source": [
        "import numpy as np\n",
        "import matplotlib.pyplot as plt"
      ],
      "execution_count": null,
      "outputs": []
    },
    {
      "cell_type": "code",
      "metadata": {
        "id": "t6xrS_Mzsg-H",
        "colab": {
          "base_uri": "https://localhost:8080/",
          "height": 325
        },
        "outputId": "041099be-d81b-4b2e-d100-502eb02a6242"
      },
      "source": [
        "dataset.describe()"
      ],
      "execution_count": null,
      "outputs": [
        {
          "output_type": "execute_result",
          "data": {
            "text/html": [
              "<div>\n",
              "<style scoped>\n",
              "    .dataframe tbody tr th:only-of-type {\n",
              "        vertical-align: middle;\n",
              "    }\n",
              "\n",
              "    .dataframe tbody tr th {\n",
              "        vertical-align: top;\n",
              "    }\n",
              "\n",
              "    .dataframe thead th {\n",
              "        text-align: right;\n",
              "    }\n",
              "</style>\n",
              "<table border=\"1\" class=\"dataframe\">\n",
              "  <thead>\n",
              "    <tr style=\"text-align: right;\">\n",
              "      <th></th>\n",
              "      <th>Year</th>\n",
              "      <th>Relative Price</th>\n",
              "      <th>Relative Income</th>\n",
              "      <th>Population</th>\n",
              "      <th>GDP</th>\n",
              "      <th>CPI</th>\n",
              "      <th>UK CPI</th>\n",
              "      <th>UK GDP</th>\n",
              "      <th>Exchange Rate</th>\n",
              "      <th>UK EXC Rate</th>\n",
              "      <th>Inbound Tourism</th>\n",
              "    </tr>\n",
              "  </thead>\n",
              "  <tbody>\n",
              "    <tr>\n",
              "      <th>count</th>\n",
              "      <td>936.000000</td>\n",
              "      <td>936.000000</td>\n",
              "      <td>936.000000</td>\n",
              "      <td>9.360000e+02</td>\n",
              "      <td>9.360000e+02</td>\n",
              "      <td>936.000000</td>\n",
              "      <td>936.000000</td>\n",
              "      <td>9.360000e+02</td>\n",
              "      <td>936.000000</td>\n",
              "      <td>936.000000</td>\n",
              "      <td>9.360000e+02</td>\n",
              "    </tr>\n",
              "    <tr>\n",
              "      <th>mean</th>\n",
              "      <td>2006.500000</td>\n",
              "      <td>123.660175</td>\n",
              "      <td>12.439043</td>\n",
              "      <td>7.674852e+07</td>\n",
              "      <td>1.176751e+12</td>\n",
              "      <td>91.488833</td>\n",
              "      <td>94.020483</td>\n",
              "      <td>2.377500e+12</td>\n",
              "      <td>99.200946</td>\n",
              "      <td>114.447500</td>\n",
              "      <td>6.303139e+05</td>\n",
              "    </tr>\n",
              "    <tr>\n",
              "      <th>std</th>\n",
              "      <td>6.925887</td>\n",
              "      <td>69.273122</td>\n",
              "      <td>29.634226</td>\n",
              "      <td>1.896366e+08</td>\n",
              "      <td>2.404451e+12</td>\n",
              "      <td>23.531029</td>\n",
              "      <td>13.515929</td>\n",
              "      <td>3.160836e+11</td>\n",
              "      <td>15.003229</td>\n",
              "      <td>12.129415</td>\n",
              "      <td>9.140806e+05</td>\n",
              "    </tr>\n",
              "    <tr>\n",
              "      <th>min</th>\n",
              "      <td>1995.000000</td>\n",
              "      <td>0.000000</td>\n",
              "      <td>0.160738</td>\n",
              "      <td>2.674680e+05</td>\n",
              "      <td>8.150517e+09</td>\n",
              "      <td>6.331779</td>\n",
              "      <td>73.931940</td>\n",
              "      <td>1.780000e+12</td>\n",
              "      <td>47.950000</td>\n",
              "      <td>97.080000</td>\n",
              "      <td>1.144475e+02</td>\n",
              "    </tr>\n",
              "    <tr>\n",
              "      <th>25%</th>\n",
              "      <td>2000.750000</td>\n",
              "      <td>101.521119</td>\n",
              "      <td>2.084880</td>\n",
              "      <td>7.304425e+06</td>\n",
              "      <td>2.157500e+11</td>\n",
              "      <td>78.941094</td>\n",
              "      <td>82.404753</td>\n",
              "      <td>2.145000e+12</td>\n",
              "      <td>93.697500</td>\n",
              "      <td>102.370000</td>\n",
              "      <td>1.000000e+05</td>\n",
              "    </tr>\n",
              "    <tr>\n",
              "      <th>50%</th>\n",
              "      <td>2006.500000</td>\n",
              "      <td>114.361588</td>\n",
              "      <td>5.954032</td>\n",
              "      <td>1.698512e+07</td>\n",
              "      <td>3.895000e+11</td>\n",
              "      <td>92.731006</td>\n",
              "      <td>91.358424</td>\n",
              "      <td>2.455000e+12</td>\n",
              "      <td>99.200946</td>\n",
              "      <td>113.750000</td>\n",
              "      <td>2.108500e+05</td>\n",
              "    </tr>\n",
              "    <tr>\n",
              "      <th>75%</th>\n",
              "      <td>2012.250000</td>\n",
              "      <td>129.397378</td>\n",
              "      <td>11.515894</td>\n",
              "      <td>6.102373e+07</td>\n",
              "      <td>1.150000e+12</td>\n",
              "      <td>105.331679</td>\n",
              "      <td>107.138894</td>\n",
              "      <td>2.565000e+12</td>\n",
              "      <td>104.352500</td>\n",
              "      <td>127.260000</td>\n",
              "      <td>7.305260e+05</td>\n",
              "    </tr>\n",
              "    <tr>\n",
              "      <th>max</th>\n",
              "      <td>2018.000000</td>\n",
              "      <td>1215.124652</td>\n",
              "      <td>218.390689</td>\n",
              "      <td>1.352617e+09</td>\n",
              "      <td>1.790000e+13</td>\n",
              "      <td>240.142919</td>\n",
              "      <td>117.579064</td>\n",
              "      <td>2.880000e+12</td>\n",
              "      <td>272.920000</td>\n",
              "      <td>130.420000</td>\n",
              "      <td>4.171000e+06</td>\n",
              "    </tr>\n",
              "  </tbody>\n",
              "</table>\n",
              "</div>"
            ],
            "text/plain": [
              "              Year  Relative Price  ...  UK EXC Rate  Inbound Tourism\n",
              "count   936.000000      936.000000  ...   936.000000     9.360000e+02\n",
              "mean   2006.500000      123.660175  ...   114.447500     6.303139e+05\n",
              "std       6.925887       69.273122  ...    12.129415     9.140806e+05\n",
              "min    1995.000000        0.000000  ...    97.080000     1.144475e+02\n",
              "25%    2000.750000      101.521119  ...   102.370000     1.000000e+05\n",
              "50%    2006.500000      114.361588  ...   113.750000     2.108500e+05\n",
              "75%    2012.250000      129.397378  ...   127.260000     7.305260e+05\n",
              "max    2018.000000     1215.124652  ...   130.420000     4.171000e+06\n",
              "\n",
              "[8 rows x 11 columns]"
            ]
          },
          "metadata": {
            "tags": []
          },
          "execution_count": 22
        }
      ]
    },
    {
      "cell_type": "code",
      "metadata": {
        "id": "mEKh42aG_6IQ"
      },
      "source": [
        "dataset_list = list(dataset.columns)"
      ],
      "execution_count": null,
      "outputs": []
    },
    {
      "cell_type": "code",
      "metadata": {
        "colab": {
          "base_uri": "https://localhost:8080/"
        },
        "id": "aQ-mPSPpI9Cv",
        "outputId": "5538fffc-5b2f-4a50-af71-7ffba4ffdf0c"
      },
      "source": [
        "dataset_list"
      ],
      "execution_count": null,
      "outputs": [
        {
          "output_type": "execute_result",
          "data": {
            "text/plain": [
              "['Year',\n",
              " 'Relative Price',\n",
              " 'Relative Income',\n",
              " 'Population',\n",
              " 'GDP',\n",
              " 'CPI',\n",
              " 'UK CPI',\n",
              " 'UK GDP',\n",
              " 'Exchange Rate',\n",
              " 'UK EXC Rate',\n",
              " 'Inbound Tourism']"
            ]
          },
          "metadata": {
            "tags": []
          },
          "execution_count": 114
        }
      ]
    },
    {
      "cell_type": "code",
      "metadata": {
        "id": "rmvb0JaZHDM4"
      },
      "source": [
        "importances = list(regressor.feature_importances_)"
      ],
      "execution_count": null,
      "outputs": []
    },
    {
      "cell_type": "code",
      "metadata": {
        "id": "tKV6YEa4HlL9"
      },
      "source": [
        "feature_importances = [(dataset, round(importance, 2)) for dataset, importance in zip(dataset_list, importances)]"
      ],
      "execution_count": null,
      "outputs": []
    },
    {
      "cell_type": "code",
      "metadata": {
        "id": "VMeWnbzYH3CE"
      },
      "source": [
        "feature_importances = sorted(feature_importances, key = lambda x: x[1], reverse = True)"
      ],
      "execution_count": null,
      "outputs": []
    },
    {
      "cell_type": "code",
      "metadata": {
        "colab": {
          "base_uri": "https://localhost:8080/"
        },
        "id": "b7CYpgw4H61a",
        "outputId": "5ca85a1d-f35f-475d-f1bd-0b9d4f985cbd"
      },
      "source": [
        "[print('Variable: {:20} Importance: {}'.format(*pair)) for pair in feature_importances];"
      ],
      "execution_count": null,
      "outputs": [
        {
          "output_type": "stream",
          "text": [
            "Variable: Relative Income      Importance: 0.52\n",
            "Variable: Population           Importance: 0.21\n",
            "Variable: GDP                  Importance: 0.1\n",
            "Variable: CPI                  Importance: 0.09\n",
            "Variable: UK GDP               Importance: 0.02\n",
            "Variable: Exchange Rate        Importance: 0.02\n",
            "Variable: Year                 Importance: 0.01\n",
            "Variable: Relative Price       Importance: 0.01\n",
            "Variable: UK CPI               Importance: 0.01\n",
            "Variable: UK EXC Rate          Importance: 0.01\n"
          ],
          "name": "stdout"
        }
      ]
    },
    {
      "cell_type": "code",
      "metadata": {
        "id": "iE2IZZBsZum1"
      },
      "source": [
        "import matplotlib.pyplot as plt"
      ],
      "execution_count": null,
      "outputs": []
    },
    {
      "cell_type": "code",
      "metadata": {
        "id": "bZ_YY74ka4VI"
      },
      "source": [
        "%matplotlib inline"
      ],
      "execution_count": null,
      "outputs": []
    },
    {
      "cell_type": "code",
      "metadata": {
        "id": "kiAbyEHbZv_v"
      },
      "source": [
        "plt.style.use('fivethirtyeight')"
      ],
      "execution_count": null,
      "outputs": []
    },
    {
      "cell_type": "code",
      "metadata": {
        "id": "1S2fyo1KZ2vk"
      },
      "source": [
        "x_values = list(range(len(importances)))"
      ],
      "execution_count": null,
      "outputs": []
    },
    {
      "cell_type": "code",
      "metadata": {
        "colab": {
          "base_uri": "https://localhost:8080/",
          "height": 299
        },
        "id": "wy9oqQomZ_9T",
        "outputId": "5c20bb8d-28d1-4e3b-c870-41791a4690ba"
      },
      "source": [
        "plt.bar(x_values, importances, orientation = 'vertical')"
      ],
      "execution_count": null,
      "outputs": [
        {
          "output_type": "execute_result",
          "data": {
            "text/plain": [
              "<BarContainer object of 10 artists>"
            ]
          },
          "metadata": {
            "tags": []
          },
          "execution_count": 105
        },
        {
          "output_type": "display_data",
          "data": {
            "image/png": "[encoded data removed]",
            "text/plain": [
              "<Figure size 432x288 with 1 Axes>"
            ]
          },
          "metadata": {
            "tags": []
          }
        }
      ]
    },
    {
      "cell_type": "code",
      "metadata": {
        "colab": {
          "base_uri": "https://localhost:8080/",
          "height": 423
        },
        "id": "P1i9dHMqeLOJ",
        "outputId": "0dacd3fe-5b0e-49e5-920d-2a79f1c45d73"
      },
      "source": [
        "plt.bar(x_values, importances, orientation = 'vertical'); plt.xticks(x_values, dataset_list, rotation='vertical'); plt.ylabel('Importance'); plt.xlabel('Variable'); plt.title('Variable Importances');"
      ],
      "execution_count": null,
      "outputs": [
        {
          "output_type": "display_data",
          "data": {
            "image/png": "[encoded data removed]",
            "text/plain": [
              "<Figure size 432x288 with 1 Axes>"
            ]
          },
          "metadata": {
            "tags": []
          }
        }
      ]
    },
    {
      "cell_type": "code",
      "metadata": {
        "id": "Oj4dMj_jhbVm"
      },
      "source": [
        "import datetime"
      ],
      "execution_count": null,
      "outputs": []
    },
    {
      "cell_type": "code",
      "metadata": {
        "id": "ON1qjQLUhgbE"
      },
      "source": [
        "years = dataset.loc[:, 'Year']"
      ],
      "execution_count": null,
      "outputs": []
    },
    {
      "cell_type": "code",
      "metadata": {
        "id": "tHJ8fOGzisRa"
      },
      "source": [
        "years = X_test[:, dataset_list.index('Year')]"
      ],
      "execution_count": null,
      "outputs": []
    },
    {
      "cell_type": "code",
      "metadata": {
        "id": "9OThvkNfoLVw"
      },
      "source": [
        "true_data = pd.DataFrame(years)"
      ],
      "execution_count": null,
      "outputs": []
    },
    {
      "cell_type": "code",
      "metadata": {
        "colab": {
          "base_uri": "https://localhost:8080/",
          "height": 131
        },
        "id": "BkyRSKBJpNwx",
        "outputId": "b6c4294c-438b-465d-b6e8-87ae133ac6b2"
      },
      "source": [
        "plot(x)\n",
        "lines(fit$fitted, col = \"red\") "
      ],
      "execution_count": null,
      "outputs": [
        {
          "output_type": "error",
          "ename": "SyntaxError",
          "evalue": "ignored",
          "traceback": [
            "\u001b[0;36m  File \u001b[0;32m\"<ipython-input-151-a58ca9f626e7>\"\u001b[0;36m, line \u001b[0;32m2\u001b[0m\n\u001b[0;31m    lines(fit$fitted, col = \"red\")\u001b[0m\n\u001b[0m             ^\u001b[0m\n\u001b[0;31mSyntaxError\u001b[0m\u001b[0;31m:\u001b[0m invalid syntax\n"
          ]
        }
      ]
    }
  ]
}